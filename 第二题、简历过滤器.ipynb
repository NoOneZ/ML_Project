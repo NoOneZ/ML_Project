{
 "cells": [
  {
   "cell_type": "code",
   "execution_count": 1,
   "metadata": {
    "collapsed": true
   },
   "outputs": [],
   "source": [
    "import pandas as pd\n",
    "import numpy as np\n",
    "import time\n",
    "import re\n",
    "from sklearn.model_selection import train_test_split\n",
    "from sklearn.naive_bayes import GaussianNB\n",
    "from sklearn.preprocessing import LabelEncoder, OneHotEncoder,LabelBinarizer"
   ]
  },
  {
   "cell_type": "code",
   "execution_count": 31,
   "metadata": {
    "collapsed": false
   },
   "outputs": [
    {
     "data": {
      "text/html": [
       "<div>\n",
       "<style>\n",
       "    .dataframe thead tr:only-child th {\n",
       "        text-align: right;\n",
       "    }\n",
       "\n",
       "    .dataframe thead th {\n",
       "        text-align: left;\n",
       "    }\n",
       "\n",
       "    .dataframe tbody tr th {\n",
       "        vertical-align: top;\n",
       "    }\n",
       "</style>\n",
       "<table border=\"1\" class=\"dataframe\">\n",
       "  <thead>\n",
       "    <tr style=\"text-align: right;\">\n",
       "      <th></th>\n",
       "      <th>degree</th>\n",
       "      <th>education</th>\n",
       "      <th>skills</th>\n",
       "      <th>working_experience</th>\n",
       "      <th>position</th>\n",
       "    </tr>\n",
       "  </thead>\n",
       "  <tbody>\n",
       "    <tr>\n",
       "      <th>0</th>\n",
       "      <td>master</td>\n",
       "      <td>fudan university</td>\n",
       "      <td>c/c++ stl;c;sql;design patterns;atl com;asp.ne...</td>\n",
       "      <td>bank of china;sap;emc</td>\n",
       "      <td>dev</td>\n",
       "    </tr>\n",
       "    <tr>\n",
       "      <th>1</th>\n",
       "      <td>bachelor</td>\n",
       "      <td>inner mongolia university</td>\n",
       "      <td>c;design patterns;windows;system modeling;stor...</td>\n",
       "      <td>ca technologies;beijing topsec network securit...</td>\n",
       "      <td>dev</td>\n",
       "    </tr>\n",
       "    <tr>\n",
       "      <th>2</th>\n",
       "      <td>bachelor</td>\n",
       "      <td>shanghai university</td>\n",
       "      <td>c;git;java;python;mongodb;selenium;test automa...</td>\n",
       "      <td>tudou.com;ebaotech corporation</td>\n",
       "      <td>dev</td>\n",
       "    </tr>\n",
       "  </tbody>\n",
       "</table>\n",
       "</div>"
      ],
      "text/plain": [
       "     degree                  education  \\\n",
       "0    master           fudan university   \n",
       "1  bachelor  inner mongolia university   \n",
       "2  bachelor        shanghai university   \n",
       "\n",
       "                                              skills  \\\n",
       "0  c/c++ stl;c;sql;design patterns;atl com;asp.ne...   \n",
       "1  c;design patterns;windows;system modeling;stor...   \n",
       "2  c;git;java;python;mongodb;selenium;test automa...   \n",
       "\n",
       "                                  working_experience position  \n",
       "0                              bank of china;sap;emc      dev  \n",
       "1  ca technologies;beijing topsec network securit...      dev  \n",
       "2                     tudou.com;ebaotech corporation      dev  "
      ]
     },
     "execution_count": 31,
     "metadata": {},
     "output_type": "execute_result"
    }
   ],
   "source": [
    "data = pd.read_csv(\"employees_dataset.csv\")\n",
    "data.head(3)"
   ]
  },
  {
   "cell_type": "code",
   "execution_count": 32,
   "metadata": {
    "collapsed": false
   },
   "outputs": [],
   "source": [
    "#one-hot编码\n",
    "data['education'] = LabelEncoder().fit_transform(data['education'])\n",
    "#0表示bachelor，1表示phd，2表示master\n",
    "data['degree'] = LabelEncoder().fit_transform(data['degree'])\n",
    "#0表示dev，1表示manager，2表示qa\n",
    "data['position'] = LabelEncoder().fit_transform(data['position'])\n",
    "\n",
    "data['skills'] = LabelEncoder().fit_transform(data['skills'].str.split(';',expand=False))\n",
    "data['working_experience'] = LabelEncoder().fit_transform(data['working_experience'].str.split(';',expand=False))"
   ]
  },
  {
   "cell_type": "code",
   "execution_count": 33,
   "metadata": {
    "collapsed": false
   },
   "outputs": [],
   "source": [
    "# Split dataset in training and test datasets\n",
    "X_train, X_test = train_test_split(data, test_size=0.1, random_state=int(time.time()))"
   ]
  },
  {
   "cell_type": "code",
   "execution_count": 34,
   "metadata": {
    "collapsed": false
   },
   "outputs": [],
   "source": [
    "# Instantiate the classifier\n",
    "gnb = GaussianNB()\n",
    "used_features =[\n",
    "     \"degree\",\n",
    "     \"education\",\n",
    "     \"skills\",\n",
    "     \"working_experience\"\n",
    "]\n",
    "# Train classifier\n",
    "gnb.fit(\n",
    "     X_train[used_features].values,\n",
    "    X_train[\"position\"]\n",
    ")\n",
    "y_pred = gnb.predict(X_test[used_features])"
   ]
  },
  {
   "cell_type": "code",
   "execution_count": 35,
   "metadata": {
    "collapsed": false
   },
   "outputs": [
    {
     "name": "stdout",
     "output_type": "stream",
     "text": [
      "Number of mislabeled points out of a total 8 points : 4, performance 50.00%\n"
     ]
    }
   ],
   "source": [
    "# Print results\n",
    "print(\"Number of mislabeled points out of a total {} points : {}, performance {:05.2f}%\".format(\n",
    "              X_test.shape[0],\n",
    "              (X_test[\"position\"] != y_pred).sum(),\n",
    "              100*(1-(X_test[\"position\"] != y_pred).sum()/X_test.shape[0])))"
   ]
  },
  {
   "cell_type": "code",
   "execution_count": null,
   "metadata": {
    "collapsed": false
   },
   "outputs": [],
   "source": []
  },
  {
   "cell_type": "code",
   "execution_count": null,
   "metadata": {
    "collapsed": true
   },
   "outputs": [],
   "source": []
  }
 ],
 "metadata": {
  "kernelspec": {
   "display_name": "Python [conda env:anaconda3]",
   "language": "python",
   "name": "conda-env-anaconda3-py"
  },
  "language_info": {
   "codemirror_mode": {
    "name": "ipython",
    "version": 3
   },
   "file_extension": ".py",
   "mimetype": "text/x-python",
   "name": "python",
   "nbconvert_exporter": "python",
   "pygments_lexer": "ipython3",
   "version": "3.5.2"
  }
 },
 "nbformat": 4,
 "nbformat_minor": 1
}
