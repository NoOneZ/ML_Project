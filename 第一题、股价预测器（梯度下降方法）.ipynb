{
 "cells": [
  {
   "cell_type": "code",
   "execution_count": 11,
   "metadata": {
    "collapsed": true
   },
   "outputs": [],
   "source": [
    "import numpy as np\n",
    "import time\n",
    "import pandas as pd\n",
    "from sklearn import datasets\n",
    "from sklearn.linear_model import LinearRegression, SGDRegressor\n",
    "from sklearn.model_selection import train_test_split\n",
    "from sklearn.preprocessing import StandardScaler\n",
    "from sklearn.metrics import mean_squared_error"
   ]
  },
  {
   "cell_type": "code",
   "execution_count": 12,
   "metadata": {
    "collapsed": false,
    "scrolled": true
   },
   "outputs": [
    {
     "data": {
      "text/html": [
       "<div>\n",
       "<style>\n",
       "    .dataframe thead tr:only-child th {\n",
       "        text-align: right;\n",
       "    }\n",
       "\n",
       "    .dataframe thead th {\n",
       "        text-align: left;\n",
       "    }\n",
       "\n",
       "    .dataframe tbody tr th {\n",
       "        vertical-align: top;\n",
       "    }\n",
       "</style>\n",
       "<table border=\"1\" class=\"dataframe\">\n",
       "  <thead>\n",
       "    <tr style=\"text-align: right;\">\n",
       "      <th></th>\n",
       "      <th>High Price</th>\n",
       "      <th>Low Price</th>\n",
       "      <th>Open Price</th>\n",
       "      <th>Close Price</th>\n",
       "      <th>Volume</th>\n",
       "    </tr>\n",
       "  </thead>\n",
       "  <tbody>\n",
       "    <tr>\n",
       "      <th>0</th>\n",
       "      <td>46.970001</td>\n",
       "      <td>46.419998</td>\n",
       "      <td>46.470001</td>\n",
       "      <td>46.759998</td>\n",
       "      <td>40302400.0</td>\n",
       "    </tr>\n",
       "    <tr>\n",
       "      <th>1</th>\n",
       "      <td>46.939999</td>\n",
       "      <td>46.279999</td>\n",
       "      <td>46.820000</td>\n",
       "      <td>46.840000</td>\n",
       "      <td>27302400.0</td>\n",
       "    </tr>\n",
       "    <tr>\n",
       "      <th>2</th>\n",
       "      <td>47.000000</td>\n",
       "      <td>46.470001</td>\n",
       "      <td>46.740002</td>\n",
       "      <td>47.000000</td>\n",
       "      <td>29216400.0</td>\n",
       "    </tr>\n",
       "  </tbody>\n",
       "</table>\n",
       "</div>"
      ],
      "text/plain": [
       "   High Price  Low Price  Open Price  Close Price      Volume\n",
       "0   46.970001  46.419998   46.470001    46.759998  40302400.0\n",
       "1   46.939999  46.279999   46.820000    46.840000  27302400.0\n",
       "2   47.000000  46.470001   46.740002    47.000000  29216400.0"
      ]
     },
     "execution_count": 12,
     "metadata": {},
     "output_type": "execute_result"
    }
   ],
   "source": [
    "#获取数据\n",
    "data = pd.read_csv(\"msft_stockprices_dataset.csv\")\n",
    "data = data.drop(['Date'], axis=1)\n",
    "X = data.drop(['Close Price'], axis=1)\n",
    "Y = data[\"Close Price\"]\n",
    "data.head(3)"
   ]
  },
  {
   "cell_type": "code",
   "execution_count": 13,
   "metadata": {
    "collapsed": true
   },
   "outputs": [],
   "source": [
    "#分隔数据集到训练集和测试集\n",
    "x_train, x_test, y_train, y_test = train_test_split(X, Y, test_size=0.1, random_state=int(time.time()))"
   ]
  },
  {
   "cell_type": "code",
   "execution_count": 14,
   "metadata": {
    "collapsed": false
   },
   "outputs": [
    {
     "name": "stderr",
     "output_type": "stream",
     "text": [
      "/home/zd/anaconda3/lib/python3.5/site-packages/ipykernel/__main__.py:7: FutureWarning: reshape is deprecated and will raise in a subsequent release. Please use .values.reshape(...) instead\n",
      "/home/zd/anaconda3/lib/python3.5/site-packages/ipykernel/__main__.py:8: FutureWarning: reshape is deprecated and will raise in a subsequent release. Please use .values.reshape(...) instead\n"
     ]
    }
   ],
   "source": [
    "#进行标准化处理 实例化两个标准化API\n",
    "std_x = StandardScaler()\n",
    "x_train = std_x.fit_transform(x_train)\n",
    "x_test = std_x.transform(x_test)\n",
    "#目标值\n",
    "std_y = StandardScaler()\n",
    "y_train = std_y.fit_transform(y_train.reshape(-1, 1))\n",
    "y_test = std_y.transform(y_test.reshape(-1, 1))"
   ]
  },
  {
   "cell_type": "code",
   "execution_count": 15,
   "metadata": {
    "collapsed": false
   },
   "outputs": [
    {
     "name": "stdout",
     "output_type": "stream",
     "text": [
      "[ 0.33407535  0.33352721  0.33094007 -0.0015088 ]\n"
     ]
    },
    {
     "name": "stderr",
     "output_type": "stream",
     "text": [
      "/home/zd/anaconda3/lib/python3.5/site-packages/sklearn/linear_model/stochastic_gradient.py:84: FutureWarning: max_iter and tol parameters have been added in <class 'sklearn.linear_model.stochastic_gradient.SGDRegressor'> in 0.19. If both are left unset, they default to max_iter=5 and tol=None. If tol is not None, max_iter defaults to max_iter=1000. From 0.21, default max_iter will be 1000, and default tol will be 1e-3.\n",
      "  \"and default tol will be 1e-3.\" % type(self), FutureWarning)\n",
      "/home/zd/anaconda3/lib/python3.5/site-packages/sklearn/utils/validation.py:547: DataConversionWarning: A column-vector y was passed when a 1d array was expected. Please change the shape of y to (n_samples, ), for example using ravel().\n",
      "  y = column_or_1d(y, warn=True)\n"
     ]
    }
   ],
   "source": [
    "#estimator预测\n",
    "#梯度下降求解方式预测结果\n",
    "lr = SGDRegressor()\n",
    "lr.fit(x_train, y_train)\n",
    "#回归系数\n",
    "print(lr.coef_)"
   ]
  },
  {
   "cell_type": "code",
   "execution_count": 17,
   "metadata": {
    "collapsed": false
   },
   "outputs": [
    {
     "name": "stdout",
     "output_type": "stream",
     "text": [
      "测试集中每只股票的预测价格: [  87.84686121   57.66662336   54.20601866   54.42258988   46.5716641\n",
      "   56.25073886   57.91388002   56.03250069   55.39833422   46.58275634\n",
      "   52.07962234   45.86316368   58.12385641  100.17381415   70.450449\n",
      "   60.21487648   41.56799056   48.86776495   57.04920681   56.40554318\n",
      "   70.88896701   57.69695851   48.88707733   57.93267673   46.45336661\n",
      "  111.97560029   68.79093148   54.36936233   50.34533881   64.65546318\n",
      "   83.16343275   47.11215093   57.54939877   65.65286959   48.77075465\n",
      "   69.85781934   41.29211259   65.40686872   51.76516187  106.08883686\n",
      "   50.24576391   60.69045098   44.97809264   54.81980629   51.70594583\n",
      "   50.74657938   48.04054959   51.18042193   95.46906308   97.69696965\n",
      "   72.21150093   41.81854305   42.97530374   64.5812157    87.84213813\n",
      "   53.59067208   72.24090839   65.40473689   83.78090328   82.44876674\n",
      "   65.0791772    40.61383129   77.62691894   54.07010071   45.35326271\n",
      "   83.30964693   51.89440711   93.92713933   43.39302602   50.27356771\n",
      "   47.25011627   57.69658604   57.81604609   43.62591212   57.59675482\n",
      "   52.61688838   62.70415212   57.60929944   42.73555818   51.36865487\n",
      "   55.57882211   48.78581475   56.82354361   46.7995517    65.81270697\n",
      "   47.99460351   50.36928673   83.12380847   41.47441393   51.37719826\n",
      "   54.03987249   93.44026701   73.0284708    56.82763395   62.94544911\n",
      "   46.79406918  100.0251983    65.2396135    57.07843391   73.07567035\n",
      "   46.92207762]\n",
      "梯度下降的均方误差: 0.171682125421\n"
     ]
    }
   ],
   "source": [
    "# 预测测试集的收盘价\n",
    "y_predict = std_y.inverse_transform(lr.predict(x_test))\n",
    "#y_predict = lr.predict(x_test)\n",
    "print(\"测试集中每只股票的预测价格:\", y_predict)\n",
    "print(\"梯度下降的均方误差:\", mean_squared_error(std_y.inverse_transform(y_test), y_predict))"
   ]
  },
  {
   "cell_type": "code",
   "execution_count": null,
   "metadata": {
    "collapsed": true
   },
   "outputs": [],
   "source": []
  }
 ],
 "metadata": {
  "anaconda-cloud": {},
  "kernelspec": {
   "display_name": "Python [conda env:anaconda3]",
   "language": "python",
   "name": "conda-env-anaconda3-py"
  },
  "language_info": {
   "codemirror_mode": {
    "name": "ipython",
    "version": 3
   },
   "file_extension": ".py",
   "mimetype": "text/x-python",
   "name": "python",
   "nbconvert_exporter": "python",
   "pygments_lexer": "ipython3",
   "version": "3.5.2"
  }
 },
 "nbformat": 4,
 "nbformat_minor": 1
}
