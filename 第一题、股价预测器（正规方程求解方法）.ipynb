{
 "cells": [
  {
   "cell_type": "code",
   "execution_count": 60,
   "metadata": {
    "collapsed": false
   },
   "outputs": [],
   "source": [
    "import numpy as np\n",
    "import time\n",
    "import pandas as pd\n",
    "from sklearn import datasets\n",
    "from sklearn.linear_model import LinearRegression, SGDRegressor\n",
    "from sklearn.model_selection import train_test_split\n",
    "from sklearn.preprocessing import StandardScaler\n",
    "from sklearn.metrics import mean_squared_error"
   ]
  },
  {
   "cell_type": "code",
   "execution_count": 61,
   "metadata": {
    "collapsed": false
   },
   "outputs": [
    {
     "data": {
      "text/html": [
       "<div>\n",
       "<style>\n",
       "    .dataframe thead tr:only-child th {\n",
       "        text-align: right;\n",
       "    }\n",
       "\n",
       "    .dataframe thead th {\n",
       "        text-align: left;\n",
       "    }\n",
       "\n",
       "    .dataframe tbody tr th {\n",
       "        vertical-align: top;\n",
       "    }\n",
       "</style>\n",
       "<table border=\"1\" class=\"dataframe\">\n",
       "  <thead>\n",
       "    <tr style=\"text-align: right;\">\n",
       "      <th></th>\n",
       "      <th>High Price</th>\n",
       "      <th>Low Price</th>\n",
       "      <th>Open Price</th>\n",
       "      <th>Close Price</th>\n",
       "      <th>Volume</th>\n",
       "    </tr>\n",
       "  </thead>\n",
       "  <tbody>\n",
       "    <tr>\n",
       "      <th>0</th>\n",
       "      <td>46.970001</td>\n",
       "      <td>46.419998</td>\n",
       "      <td>46.470001</td>\n",
       "      <td>46.759998</td>\n",
       "      <td>40302400.0</td>\n",
       "    </tr>\n",
       "    <tr>\n",
       "      <th>1</th>\n",
       "      <td>46.939999</td>\n",
       "      <td>46.279999</td>\n",
       "      <td>46.820000</td>\n",
       "      <td>46.840000</td>\n",
       "      <td>27302400.0</td>\n",
       "    </tr>\n",
       "    <tr>\n",
       "      <th>2</th>\n",
       "      <td>47.000000</td>\n",
       "      <td>46.470001</td>\n",
       "      <td>46.740002</td>\n",
       "      <td>47.000000</td>\n",
       "      <td>29216400.0</td>\n",
       "    </tr>\n",
       "  </tbody>\n",
       "</table>\n",
       "</div>"
      ],
      "text/plain": [
       "   High Price  Low Price  Open Price  Close Price      Volume\n",
       "0   46.970001  46.419998   46.470001    46.759998  40302400.0\n",
       "1   46.939999  46.279999   46.820000    46.840000  27302400.0\n",
       "2   47.000000  46.470001   46.740002    47.000000  29216400.0"
      ]
     },
     "execution_count": 61,
     "metadata": {},
     "output_type": "execute_result"
    }
   ],
   "source": [
    "#获取数据\n",
    "data = pd.read_csv(\"msft_stockprices_dataset.csv\")\n",
    "data = data.drop(['Date'], axis=1)\n",
    "X = data.drop(['Close Price'], axis=1)\n",
    "Y = data[\"Close Price\"]\n",
    "data.head(3)"
   ]
  },
  {
   "cell_type": "code",
   "execution_count": 62,
   "metadata": {
    "collapsed": false
   },
   "outputs": [],
   "source": [
    "#分隔数据集到训练集和测试集\n",
    "x_train, x_test, y_train, y_test = train_test_split(X, Y, test_size=0.1, random_state=int(time.time()))"
   ]
  },
  {
   "cell_type": "code",
   "execution_count": 63,
   "metadata": {
    "collapsed": false
   },
   "outputs": [
    {
     "name": "stderr",
     "output_type": "stream",
     "text": [
      "/home/zd/anaconda3/lib/python3.5/site-packages/ipykernel/__main__.py:8: FutureWarning: reshape is deprecated and will raise in a subsequent release. Please use .values.reshape(...) instead\n",
      "/home/zd/anaconda3/lib/python3.5/site-packages/ipykernel/__main__.py:9: FutureWarning: reshape is deprecated and will raise in a subsequent release. Please use .values.reshape(...) instead\n"
     ]
    }
   ],
   "source": [
    "#进行标准化处理 实例化两个标准化API\n",
    "std_x = StandardScaler()\n",
    "x_train = std_x.fit_transform(x_train)\n",
    "x_test = std_x.transform(x_test)\n",
    "\n",
    "#目标值\n",
    "std_y = StandardScaler()\n",
    "y_train = std_y.fit_transform(y_train.reshape(-1, 1))\n",
    "y_test = std_y.transform(y_test.reshape(-1, 1))"
   ]
  },
  {
   "cell_type": "code",
   "execution_count": 64,
   "metadata": {
    "collapsed": false
   },
   "outputs": [
    {
     "name": "stdout",
     "output_type": "stream",
     "text": [
      "[[ 0.8325779   0.76953229 -0.60252437 -0.00101575]]\n"
     ]
    }
   ],
   "source": [
    "#estimator预测\n",
    "#正规方程求解方式预测结果\n",
    "lr = LinearRegression()\n",
    "lr.fit(x_train, y_train)\n",
    "#回归系数\n",
    "print(lr.coef_)"
   ]
  },
  {
   "cell_type": "code",
   "execution_count": 65,
   "metadata": {
    "collapsed": false
   },
   "outputs": [
    {
     "name": "stdout",
     "output_type": "stream",
     "text": [
      "测试集中每只股票的预测价格: [[  96.120056  ]\n",
      " [  58.05186396]\n",
      " [  70.36152708]\n",
      " [  41.65430819]\n",
      " [ 102.15121532]\n",
      " [  64.93979271]\n",
      " [  85.61745655]\n",
      " [  83.88490101]\n",
      " [  42.42217428]\n",
      " [  60.09814099]\n",
      " [  43.79664511]\n",
      " [  58.34817832]\n",
      " [  72.74361751]\n",
      " [  92.100594  ]\n",
      " [  52.14478113]\n",
      " [  41.31421209]\n",
      " [  55.15113885]\n",
      " [  46.69551815]\n",
      " [  56.53985371]\n",
      " [  96.85422401]\n",
      " [  75.89867364]\n",
      " [  46.64734047]\n",
      " [  43.38381301]\n",
      " [  78.83501586]\n",
      " [  57.6885317 ]\n",
      " [ 100.52178734]\n",
      " [  73.71327702]\n",
      " [  46.9361165 ]\n",
      " [  46.8873936 ]\n",
      " [  60.62709792]\n",
      " [  65.01307115]\n",
      " [  47.71134192]\n",
      " [  56.37628545]\n",
      " [  46.39041564]\n",
      " [  62.27536384]\n",
      " [  47.97565729]\n",
      " [  47.56674011]\n",
      " [  64.98178835]\n",
      " [  88.95772044]\n",
      " [  55.85220198]\n",
      " [  53.77239745]\n",
      " [ 101.87112466]\n",
      " [  47.25229553]\n",
      " [  69.95280833]\n",
      " [  69.56631545]\n",
      " [  77.08640501]\n",
      " [  44.38782057]\n",
      " [  46.40420902]\n",
      " [  74.46655248]\n",
      " [  46.01502788]\n",
      " [  57.56020752]\n",
      " [  53.77402537]\n",
      " [  47.75028393]\n",
      " [  43.50253579]\n",
      " [  61.0939629 ]\n",
      " [  92.7088129 ]\n",
      " [  50.10278958]\n",
      " [  72.71946866]\n",
      " [  65.45640492]\n",
      " [  50.07036595]\n",
      " [  96.10629785]\n",
      " [  48.01042671]\n",
      " [  52.72391909]\n",
      " [  44.94081295]\n",
      " [  72.34622889]\n",
      " [  63.45781788]\n",
      " [  62.98457899]\n",
      " [  47.8755006 ]\n",
      " [  47.99881269]\n",
      " [  48.01192424]\n",
      " [  57.84214908]\n",
      " [  46.6960788 ]\n",
      " [  64.98574417]\n",
      " [  53.38543837]\n",
      " [  46.68033226]\n",
      " [  57.27273438]\n",
      " [  42.31826309]\n",
      " [  42.76366314]\n",
      " [  52.82633811]\n",
      " [  73.53628592]\n",
      " [  51.42433476]\n",
      " [  64.42838226]\n",
      " [  43.7292004 ]\n",
      " [  60.19853288]\n",
      " [  92.53696721]\n",
      " [  64.69938673]\n",
      " [ 109.11078375]\n",
      " [  57.07486673]\n",
      " [  56.58107031]\n",
      " [  90.73784834]\n",
      " [  99.51629996]\n",
      " [  47.15733218]\n",
      " [  93.22899614]\n",
      " [  51.32139135]\n",
      " [  65.08710826]\n",
      " [ 104.12197671]\n",
      " [  62.44133333]\n",
      " [ 111.65121804]\n",
      " [  72.50166832]\n",
      " [  47.49119385]\n",
      " [  41.99077482]]\n",
      "正规方程的均方误差: 0.0664275140526\n"
     ]
    }
   ],
   "source": [
    "# 预测测试集的收盘价\n",
    "y_predict = std_y.inverse_transform(lr.predict(x_test))\n",
    "#y_predict = lr.predict(x_test)\n",
    "print(\"测试集中每只股票的预测价格:\", y_predict)\n",
    "print(\"正规方程的均方误差:\", mean_squared_error(std_y.inverse_transform(y_test), y_predict))"
   ]
  },
  {
   "cell_type": "code",
   "execution_count": null,
   "metadata": {
    "collapsed": false
   },
   "outputs": [],
   "source": []
  },
  {
   "cell_type": "code",
   "execution_count": null,
   "metadata": {
    "collapsed": false
   },
   "outputs": [],
   "source": []
  },
  {
   "cell_type": "code",
   "execution_count": null,
   "metadata": {
    "collapsed": true
   },
   "outputs": [],
   "source": []
  },
  {
   "cell_type": "code",
   "execution_count": null,
   "metadata": {
    "collapsed": true
   },
   "outputs": [],
   "source": []
  }
 ],
 "metadata": {
  "anaconda-cloud": {},
  "kernelspec": {
   "display_name": "Python [conda env:anaconda3]",
   "language": "python",
   "name": "conda-env-anaconda3-py"
  },
  "language_info": {
   "codemirror_mode": {
    "name": "ipython",
    "version": 3
   },
   "file_extension": ".py",
   "mimetype": "text/x-python",
   "name": "python",
   "nbconvert_exporter": "python",
   "pygments_lexer": "ipython3",
   "version": "3.5.2"
  }
 },
 "nbformat": 4,
 "nbformat_minor": 1
}
